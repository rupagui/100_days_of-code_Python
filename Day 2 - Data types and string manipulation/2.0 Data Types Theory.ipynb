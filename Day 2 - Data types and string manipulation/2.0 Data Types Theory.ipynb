{
 "cells": [
  {
   "cell_type": "code",
   "execution_count": null,
   "metadata": {},
   "outputs": [],
   "source": []
  }
 ],
 "metadata": {
  "kernelspec": {
   "display_name": "Python 3.11.0 ('.venv': venv)",
   "language": "python",
   "name": "python3"
  },
  "language_info": {
   "name": "python",
   "version": "3.11.0"
  },
  "orig_nbformat": 4,
  "vscode": {
   "interpreter": {
    "hash": "db78d90a186b7702ef6994c0672ace63a83a826cb27132d68151c3155d917147"
   }
  }
 },
 "nbformat": 4,
 "nbformat_minor": 2
}
